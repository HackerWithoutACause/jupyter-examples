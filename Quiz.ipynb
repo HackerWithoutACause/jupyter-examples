{
 "cells": [
  {
   "cell_type": "code",
   "execution_count": null,
   "id": "f47f4459",
   "metadata": {
    "scrolled": false
   },
   "outputs": [
    {
     "name": "stdout",
     "output_type": "stream",
     "text": [
      "It's time for a quiz about Python! \n",
      "\n"
     ]
    }
   ],
   "source": [
    "print(\"It's time for a quiz about Python! \\n\")\n",
    "\n",
    "#score = 3\n",
    "\n",
    "def quiz():\n",
    "    score = 3\n",
    "    #alternatively, you could write \"global score\" here and put the line \"score = 3\" above the \"def\" statement\n",
    "    #\"global score\" would be put here to make sure the \"score\" we're talking about here is the same as the \"score\" set equal to 3 outside the function\n",
    "\n",
    "    #QUESTION 1\n",
    "    question_1_prompt = \"\"\"\n",
    "    How do you format print statements?\n",
    "    A. print[Hello World!]\n",
    "    B. print<Hello World!>\n",
    "    C. print (Hello World!)\n",
    "    D. print(\"Hello World!\")\n",
    "    \n",
    "    \"\"\"\n",
    "    question_1 = str(input(question_1_prompt))\n",
    "    #\\n is basically like hitting the enter key when a statement is printed out\n",
    "\n",
    "    if question_1 == \"D\":\n",
    "      print(\"\\nCorrect!\\n\")\n",
    "    else:\n",
    "      print(\"\\nNope! The answer is D!\\n\")\n",
    "      score -= 1\n",
    "\n",
    "\n",
    "    #QUESTION 2\n",
    "    question_2 = str(input(\"How do you define a function?\\nA. define function():\\nB. def function()\\nC. def (function):\\nD. def function():\\n\\n\"))\n",
    "\n",
    "    if question_2 == \"D\":\n",
    "      print(\"\\nCorrect!\\n\")\n",
    "    else:\n",
    "      print(\"\\nNope! The answer is D!\\n\")\n",
    "      score -= 1\n",
    "\n",
    "\n",
    "    #QUESTION 3\n",
    "    question_3 = str(input(\"How do you call a function?\\nA. function()\\nB. call function()\\nC. (function)\\nD. function(call):\\n\\n\"))\n",
    "\n",
    "    if question_3 == \"A\":\n",
    "      print(\"\\nCorrect!\\n\")\n",
    "    else:\n",
    "      print(\"\\nNope! The answer is A!\\n\")\n",
    "      score -= 1\n",
    "\n",
    "    if score == 3:\n",
    "      print(\"\\nCongratulations! You passed the test!\")\n",
    "    if score < 3:\n",
    "      print(\"\\nOof, you got \" + str(score) + \" questions out of 3 correct. You'll need to reassess!\")\n",
    "    \n",
    "quiz()"
   ]
  },
  {
   "cell_type": "code",
   "execution_count": null,
   "id": "c1401bb4",
   "metadata": {},
   "outputs": [],
   "source": []
  }
 ],
 "metadata": {
  "kernelspec": {
   "display_name": "Python 3 (ipykernel)",
   "language": "python",
   "name": "python3"
  },
  "language_info": {
   "codemirror_mode": {
    "name": "ipython",
    "version": 3
   },
   "file_extension": ".py",
   "mimetype": "text/x-python",
   "name": "python",
   "nbconvert_exporter": "python",
   "pygments_lexer": "ipython3",
   "version": "3.9.6"
  }
 },
 "nbformat": 4,
 "nbformat_minor": 5
}
