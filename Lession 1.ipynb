{
 "cells": [
  {
   "cell_type": "markdown",
   "id": "b663d8f4",
   "metadata": {},
   "source": [
    "# Hello, World\n",
    "Hello World is the classic first program"
   ]
  },
  {
   "cell_type": "code",
   "execution_count": 1,
   "id": "1bf2ea6d",
   "metadata": {
    "scrolled": true
   },
   "outputs": [
    {
     "name": "stdout",
     "output_type": "stream",
     "text": [
      "Hello, World\n"
     ]
    }
   ],
   "source": [
    "# Hello, World is the classic first program people write\n",
    "# All it does it show the String \"Hello, World\" out to user\n",
    "print(\"Hello, World\")"
   ]
  },
  {
   "cell_type": "code",
   "execution_count": 4,
   "id": "473b8928",
   "metadata": {},
   "outputs": [],
   "source": [
    "# In Python comments are non-functional bits of code that have not effect on the program.\n",
    "# They are ment to comunicate with other people that may be reading the code.\n",
    "# A comment is any text after a hashmark (#)"
   ]
  },
  {
   "cell_type": "code",
   "execution_count": 1,
   "id": "4849b87f",
   "metadata": {},
   "outputs": [
    {
     "name": "stdout",
     "output_type": "stream",
     "text": [
      "Hello, World\n"
     ]
    }
   ],
   "source": [
    "print(\"Hello, World\")"
   ]
  }
 ],
 "metadata": {
  "kernelspec": {
   "display_name": "Python 3",
   "language": "python",
   "name": "python3"
  },
  "language_info": {
   "codemirror_mode": {
    "name": "ipython",
    "version": 3
   },
   "file_extension": ".py",
   "mimetype": "text/x-python",
   "name": "python",
   "nbconvert_exporter": "python",
   "pygments_lexer": "ipython3",
   "version": "3.9.6"
  }
 },
 "nbformat": 4,
 "nbformat_minor": 5
}
