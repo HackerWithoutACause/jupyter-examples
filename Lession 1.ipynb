{
 "cells": [
  {
   "cell_type": "markdown",
   "id": "56eb9719",
   "metadata": {},
   "source": [
    "# Lession 1"
   ]
  },
  {
   "cell_type": "markdown",
   "id": "e524e134",
   "metadata": {},
   "source": [
    "## Hello World"
   ]
  },
  {
   "cell_type": "code",
   "execution_count": 1,
   "id": "1bf2ea6d",
   "metadata": {
    "scrolled": true
   },
   "outputs": [
    {
     "name": "stdout",
     "output_type": "stream",
     "text": [
      "Hello, World\n"
     ]
    }
   ],
   "source": [
    "# Hello, World is the classic first program people write\n",
    "# All it does it show the String \"Hello, World\" out to user\n",
    "print(\"Hello, World\")"
   ]
  },
  {
   "cell_type": "code",
   "execution_count": 2,
   "id": "473b8928",
   "metadata": {},
   "outputs": [],
   "source": [
    "# In Python comments are non-functional bits of code that have not effect on the program.\n",
    "# They are ment to comunicate with other people that may be reading the code.\n",
    "# A comment is any text after a hashmark (#)"
   ]
  },
  {
   "cell_type": "markdown",
   "id": "c9193afe",
   "metadata": {},
   "source": [
    "## Numbers"
   ]
  },
  {
   "cell_type": "code",
   "execution_count": 3,
   "id": "ccad1e1e",
   "metadata": {},
   "outputs": [
    {
     "data": {
      "text/plain": [
       "13"
      ]
     },
     "execution_count": 3,
     "metadata": {},
     "output_type": "execute_result"
    }
   ],
   "source": [
    "# Python can be used to do simple arthmetic:\n",
    "1 + 6 * 2 # first multiply 6 and 2 then add 1 "
   ]
  },
  {
   "cell_type": "code",
   "execution_count": null,
   "id": "02ff5212",
   "metadata": {},
   "outputs": [],
   "source": [
    "# "
   ]
  },
  {
   "cell_type": "markdown",
   "id": "a68e26a4",
   "metadata": {},
   "source": [
    "## Variables"
   ]
  },
  {
   "cell_type": "code",
   "execution_count": 1,
   "id": "2d991500",
   "metadata": {},
   "outputs": [
    {
     "name": "stdout",
     "output_type": "stream",
     "text": [
      "10\n"
     ]
    }
   ],
   "source": [
    "# Variables are used to store values and data with a name\n",
    "# Variables are delcared using name = value\n",
    "x = 10 # Here we set x equal to 10\n",
    "print(x) # We can use it later"
   ]
  },
  {
   "cell_type": "code",
   "execution_count": 2,
   "id": "3d3f5083",
   "metadata": {},
   "outputs": [
    {
     "name": "stdout",
     "output_type": "stream",
     "text": [
      "11\n"
     ]
    }
   ],
   "source": [
    "# We can also use variables in compution\n",
    "y = x + 1\n",
    "print(y)"
   ]
  },
  {
   "cell_type": "markdown",
   "id": "9a661f67",
   "metadata": {},
   "source": [
    "## Datatypes"
   ]
  },
  {
   "cell_type": "code",
   "execution_count": null,
   "id": "a4bf5eab",
   "metadata": {},
   "outputs": [],
   "source": []
  }
 ],
 "metadata": {
  "kernelspec": {
   "display_name": "Python 3 (ipykernel)",
   "language": "python",
   "name": "python3"
  },
  "language_info": {
   "codemirror_mode": {
    "name": "ipython",
    "version": 3
   },
   "file_extension": ".py",
   "mimetype": "text/x-python",
   "name": "python",
   "nbconvert_exporter": "python",
   "pygments_lexer": "ipython3",
   "version": "3.9.6"
  }
 },
 "nbformat": 4,
 "nbformat_minor": 5
}
